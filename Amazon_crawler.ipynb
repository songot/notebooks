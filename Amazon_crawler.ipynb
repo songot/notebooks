{
 "cells": [
  {
   "cell_type": "code",
   "execution_count": null,
   "metadata": {},
   "outputs": [],
   "source": [
    "%%script bash\n",
    "mkdir scrapers/\n",
    "mkdir scrapers/amazon\n",
    "cd scrapers/amazon\n",
    "python -m pip install virtualenv\n",
    "virtualenv env\n",
    ". env/bin/activate\n",
    "python -m pip install scrapy\n",
    "python -m pip install numpy\n",
    "python -m pip install pandas\n",
    "python -m pip install requests\n",
    "python -m pip install scraperapi-sdk\n",
    "scrapy startproject amazon_scraper"
   ]
  },
  {
   "cell_type": "code",
   "execution_count": null,
   "metadata": {},
   "outputs": [],
   "source": [
    "%%script bash\n",
    "python -m pip install pandas"
   ]
  },
  {
   "cell_type": "code",
   "execution_count": null,
   "metadata": {},
   "outputs": [],
   "source": [
    "import pandas as pd\n",
    "data = pd.read_csv('store_credentials.csv', header=0, sep=';', index_col=False)\n",
    "data"
   ]
  },
  {
   "cell_type": "code",
   "execution_count": 3,
   "metadata": {},
   "outputs": [
    {
     "name": "stdout",
     "output_type": "stream",
     "text": [
      "Writing settings.py\n"
     ]
    }
   ],
   "source": [
    "%%writefile settings.py\n",
    "# -*- coding: utf-8 -*-\n",
    "\n",
    "# Scrapy settings for amazon_scraper project\n",
    "#\n",
    "# For simplicity, this file contains only settings considered important or\n",
    "# commonly used. You can find more settings consulting the documentation:\n",
    "#\n",
    "#     https://docs.scrapy.org/en/latest/topics/settings.html\n",
    "#     https://docs.scrapy.org/en/latest/topics/downloader-middleware.html\n",
    "#     https://docs.scrapy.org/en/latest/topics/spider-middleware.html\n",
    "\n",
    "BOT_NAME = 'amazon_scraper'\n",
    "\n",
    "SPIDER_MODULES = ['amazon_scraper.spiders']\n",
    "NEWSPIDER_MODULE = 'amazon_scraper.spiders'\n",
    "\n",
    "\n",
    "# Crawl responsibly by identifying yourself (and your website) on the user-agent\n",
    "USER_AGENT = 'Mozilla/5.0 (Macintosh; Intel Mac OS X 10_15) AppleWebKit/605.1.15 (KHTML, like Gecko) Version/13.0.3 Safari/605.1.15'\n",
    "\n",
    "# Obey robots.txt rules\n",
    "ROBOTSTXT_OBEY = False\n",
    "\n",
    "# Configure maximum concurrent requests performed by Scrapy (default: 16)\n",
    "#CONCURRENT_REQUESTS = 32\n",
    "\n",
    "# Configure a delay for requests for the same website (default: 0)\n",
    "# See https://docs.scrapy.org/en/latest/topics/settings.html#download-delay\n",
    "# See also autothrottle settings and docs\n",
    "#DOWNLOAD_DELAY = 3\n",
    "# The download delay setting will honor only one of:\n",
    "#CONCURRENT_REQUESTS_PER_DOMAIN = 16\n",
    "#CONCURRENT_REQUESTS_PER_IP = 16\n",
    "\n",
    "# Disable cookies (enabled by default)\n",
    "#COOKIES_ENABLED = False\n",
    "\n",
    "# Disable Telnet Console (enabled by default)\n",
    "#TELNETCONSOLE_ENABLED = False\n",
    "\n",
    "# Override the default request headers:\n",
    "#DEFAULT_REQUEST_HEADERS = {\n",
    "#   'Accept': 'text/html,application/xhtml+xml,application/xml;q=0.9,*/*;q=0.8',\n",
    "#   'Accept-Language': 'en',\n",
    "#}\n",
    "\n",
    "# Enable or disable spider middlewares\n",
    "# See https://docs.scrapy.org/en/latest/topics/spider-middleware.html\n",
    "#SPIDER_MIDDLEWARES = {\n",
    "#    'amazon_scraper.middlewares.AmazonScraperSpiderMiddleware': 543,\n",
    "#}\n",
    "\n",
    "# Enable or disable downloader middlewares\n",
    "# See https://docs.scrapy.org/en/latest/topics/downloader-middleware.html\n",
    "#DOWNLOADER_MIDDLEWARES = {\n",
    "#    'amazon_scraper.middlewares.AmazonScraperDownloaderMiddleware': 543,\n",
    "#}\n",
    "\n",
    "# Enable or disable extensions\n",
    "# See https://docs.scrapy.org/en/latest/topics/extensions.html\n",
    "#EXTENSIONS = {\n",
    "#    'scrapy.extensions.telnet.TelnetConsole': None,\n",
    "#}\n",
    "\n",
    "# Configure item pipelines\n",
    "# See https://docs.scrapy.org/en/latest/topics/item-pipeline.html\n",
    "#ITEM_PIPELINES = {\n",
    "#    'amazon_scraper.pipelines.AmazonScraperPipeline': 300,\n",
    "#}\n",
    "\n",
    "# Enable and configure the AutoThrottle extension (disabled by default)\n",
    "# See https://docs.scrapy.org/en/latest/topics/autothrottle.html\n",
    "#AUTOTHROTTLE_ENABLED = True\n",
    "# The initial download delay\n",
    "#AUTOTHROTTLE_START_DELAY = 5\n",
    "# The maximum download delay to be set in case of high latencies\n",
    "#AUTOTHROTTLE_MAX_DELAY = 60\n",
    "# The average number of requests Scrapy should be sending in parallel to\n",
    "# each remote server\n",
    "#AUTOTHROTTLE_TARGET_CONCURRENCY = 1.0\n",
    "# Enable showing throttling stats for every response received:\n",
    "#AUTOTHROTTLE_DEBUG = False\n",
    "\n",
    "# Enable and configure HTTP caching (disabled by default)\n",
    "# See https://docs.scrapy.org/en/latest/topics/downloader-middleware.html#httpcache-middleware-settings\n",
    "#HTTPCACHE_ENABLED = True\n",
    "#HTTPCACHE_EXPIRATION_SECS = 0\n",
    "#HTTPCACHE_DIR = 'httpcache'\n",
    "#HTTPCACHE_IGNORE_HTTP_CODES = []\n",
    "#HTTPCACHE_STORAGE = 'scrapy.extensions.httpcache.FilesystemCacheStorage'"
   ]
  },
  {
   "cell_type": "code",
   "execution_count": 4,
   "metadata": {},
   "outputs": [],
   "source": [
    "%%script bash\n",
    "mv settings.py scrapers/amazon/amazon_scraper/amazon_scraper/"
   ]
  },
  {
   "cell_type": "code",
   "execution_count": 17,
   "metadata": {},
   "outputs": [
    {
     "name": "stdout",
     "output_type": "stream",
     "text": [
      "/home/jovyan\r\n"
     ]
    }
   ],
   "source": [
    "!pwd"
   ]
  },
  {
   "cell_type": "code",
   "execution_count": 8,
   "metadata": {},
   "outputs": [
    {
     "name": "stdout",
     "output_type": "stream",
     "text": [
      "Writing amazon_spider.py\n"
     ]
    }
   ],
   "source": [
    "%%writefile amazon_spider.py\n",
    "import scrapy\n",
    "import numpy as np\n",
    "import pandas as pd\n",
    "from scrapy.http import FormRequest\n",
    "\n",
    "def parse(self,response):\n",
    "            \n",
    "            token = response.css(\"form input::attr(value)\").extract_first()\n",
    "            print(token,\"my name osm\")\n",
    "            return FormRequest.from_response(response,formdata={\n",
    "                    'appActionToken':token,\n",
    "                    'Email':'*********',\n",
    "                    'password':'********'\n",
    "            },callback=self.start_scrapping)\n",
    "\n",
    "class AmazonSpider(scrapy.Spider):\n",
    "    name = 'amazon'\n",
    "    start_urls = ['https://sellercentral.amazon.com']\n",
    "    data = pd.read_csv('/home/jovyan/store_credentials.csv', header=0, sep=';', index_col=False)\n",
    "    user = data.Email\n",
    "    password = data.Password\n",
    "    \n",
    "    #def get_it(self,response):\n",
    "        #check = response.css('a.a-link-nav-icon img::attr(src)').get()\n",
    "        #print(check)\n",
    "        \n",
    "    def login(self, response):\n",
    "        token = response.css('form input::attr(value)').get()\n",
    "        print(token)\n",
    "\n",
    "    def parse(self, response):\n",
    "        way = response.css('a.link::attr(href)').get()\n",
    "        yield scrapy.Request(way, self.login)\n",
    "        #links =\\\n",
    "        #response.css('div.organic__path a::attr(href)').getall()\n",
    "        #self.url_data = np.append(self.url_data, np.array(links))\n",
    "        #self.url_counter+=len(links)     \n",
    "        #next_page = response.css('a.pager__item_kind_next::attr(href)').get()\n",
    "        #if (self.url_counter<2500) and (next_page is not None):\n",
    "            #yield scrapy.Request(self.client.scrapyGet(url = self.search_engine+next_page), self.parse)\n",
    "        \n",
    "    #def closed(self, reason):\n",
    "        #print(self.url_counter)\n",
    "        #raw = pd.DataFrame(data=self.url_data)\n",
    "        #raw.to_csv(r'/home/jovyan/raw_url.csv', index = False, header=False)"
   ]
  },
  {
   "cell_type": "code",
   "execution_count": 9,
   "metadata": {},
   "outputs": [],
   "source": [
    "%%script bash \n",
    "mv amazon_spider.py scrapers/amazon/amazon_scraper/amazon_scraper/spiders"
   ]
  },
  {
   "cell_type": "code",
   "execution_count": 11,
   "metadata": {},
   "outputs": [
    {
     "name": "stdout",
     "output_type": "stream",
     "text": [
      "vVLWQtkEq0e5Qc71mxeYdwe5ToIj3D\n"
     ]
    },
    {
     "name": "stderr",
     "output_type": "stream",
     "text": [
      "2020-06-05 01:32:47 [scrapy.utils.log] INFO: Scrapy 2.1.0 started (bot: amazon_scraper)\n",
      "2020-06-05 01:32:47 [scrapy.utils.log] INFO: Versions: lxml 4.5.1.0, libxml2 2.9.10, cssselect 1.1.0, parsel 1.6.0, w3lib 1.22.0, Twisted 20.3.0, Python 3.7.6 | packaged by conda-forge | (default, Jan  7 2020, 22:33:48) - [GCC 7.3.0], pyOpenSSL 19.1.0 (OpenSSL 1.1.1g  21 Apr 2020), cryptography 2.9.2, Platform Linux-4.19.104+-x86_64-with-debian-buster-sid\n",
      "2020-06-05 01:32:47 [scrapy.utils.log] DEBUG: Using reactor: twisted.internet.epollreactor.EPollReactor\n",
      "2020-06-05 01:32:47 [scrapy.crawler] INFO: Overridden settings:\n",
      "{'BOT_NAME': 'amazon_scraper',\n",
      " 'NEWSPIDER_MODULE': 'amazon_scraper.spiders',\n",
      " 'SPIDER_MODULES': ['amazon_scraper.spiders'],\n",
      " 'USER_AGENT': 'Mozilla/5.0 (Macintosh; Intel Mac OS X 10_15) '\n",
      "               'AppleWebKit/605.1.15 (KHTML, like Gecko) Version/13.0.3 '\n",
      "               'Safari/605.1.15'}\n",
      "2020-06-05 01:32:47 [scrapy.extensions.telnet] INFO: Telnet Password: 4fc575e0ba197122\n",
      "2020-06-05 01:32:47 [scrapy.middleware] INFO: Enabled extensions:\n",
      "['scrapy.extensions.corestats.CoreStats',\n",
      " 'scrapy.extensions.telnet.TelnetConsole',\n",
      " 'scrapy.extensions.memusage.MemoryUsage',\n",
      " 'scrapy.extensions.logstats.LogStats']\n",
      "2020-06-05 01:32:48 [scrapy.middleware] INFO: Enabled downloader middlewares:\n",
      "['scrapy.downloadermiddlewares.httpauth.HttpAuthMiddleware',\n",
      " 'scrapy.downloadermiddlewares.downloadtimeout.DownloadTimeoutMiddleware',\n",
      " 'scrapy.downloadermiddlewares.defaultheaders.DefaultHeadersMiddleware',\n",
      " 'scrapy.downloadermiddlewares.useragent.UserAgentMiddleware',\n",
      " 'scrapy.downloadermiddlewares.retry.RetryMiddleware',\n",
      " 'scrapy.downloadermiddlewares.redirect.MetaRefreshMiddleware',\n",
      " 'scrapy.downloadermiddlewares.httpcompression.HttpCompressionMiddleware',\n",
      " 'scrapy.downloadermiddlewares.redirect.RedirectMiddleware',\n",
      " 'scrapy.downloadermiddlewares.cookies.CookiesMiddleware',\n",
      " 'scrapy.downloadermiddlewares.httpproxy.HttpProxyMiddleware',\n",
      " 'scrapy.downloadermiddlewares.stats.DownloaderStats']\n",
      "2020-06-05 01:32:48 [scrapy.middleware] INFO: Enabled spider middlewares:\n",
      "['scrapy.spidermiddlewares.httperror.HttpErrorMiddleware',\n",
      " 'scrapy.spidermiddlewares.offsite.OffsiteMiddleware',\n",
      " 'scrapy.spidermiddlewares.referer.RefererMiddleware',\n",
      " 'scrapy.spidermiddlewares.urllength.UrlLengthMiddleware',\n",
      " 'scrapy.spidermiddlewares.depth.DepthMiddleware']\n",
      "2020-06-05 01:32:48 [scrapy.middleware] INFO: Enabled item pipelines:\n",
      "[]\n",
      "2020-06-05 01:32:48 [scrapy.core.engine] INFO: Spider opened\n",
      "2020-06-05 01:32:48 [scrapy.extensions.logstats] INFO: Crawled 0 pages (at 0 pages/min), scraped 0 items (at 0 items/min)\n",
      "2020-06-05 01:32:48 [scrapy.extensions.telnet] INFO: Telnet console listening on 127.0.0.1:6023\n",
      "2020-06-05 01:32:48 [scrapy.core.engine] DEBUG: Crawled (200) <GET https://sellercentral.amazon.com> (referer: None)\n",
      "2020-06-05 01:32:48 [scrapy.downloadermiddlewares.redirect] DEBUG: Redirecting (302) to <GET https://sellercentral.amazon.com/ap/signin?openid.return_to=https%3A%2F%2Fsellercentral.amazon.com%2Fap%2Fsignin%3Fopenid.pape.max_auth_age%3D0%26openid.return_to%3Dhttps%253A%252F%252Fsellercentral.amazon.com%252Fhome%26openid.identity%3Dhttp%253A%252F%252Fspecs.openid.net%252Fauth%252F2.0%252Fidentifier_select%26openid.assoc_handle%3Dsc_na_amazon_v2%26openid.mode%3Dcheckid_setup%26language%3Den_US%26openid.claimed_id%3Dhttp%253A%252F%252Fspecs.openid.net%252Fauth%252F2.0%252Fidentifier_select%26pageId%3Dsc_na_amazon_v2%26openid.ns%3Dhttp%253A%252F%252Fspecs.openid.net%252Fauth%252F2.0%26&openid.identity=http%3A%2F%2Fspecs.openid.net%2Fauth%2F2.0%2Fidentifier_select&openid.assoc_handle=sc_na_amazon_v2&openid.mode=logout&openid.claimed_id=http%3A%2F%2Fspecs.openid.net%2Fauth%2F2.0%2Fidentifier_select&openid.ns=http%3A%2F%2Fspecs.openid.net%2Fauth%2F2.0&> from <GET https://sellercentral.amazon.com/signin>\n",
      "2020-06-05 01:32:48 [scrapy.downloadermiddlewares.redirect] DEBUG: Redirecting (302) to <GET https://sellercentral.amazon.com/ap/removeaccount?arb=1410c028-46bd-46b4-a357-3d4e64879bd4> from <GET https://sellercentral.amazon.com/ap/signin?openid.return_to=https%3A%2F%2Fsellercentral.amazon.com%2Fap%2Fsignin%3Fopenid.pape.max_auth_age%3D0%26openid.return_to%3Dhttps%253A%252F%252Fsellercentral.amazon.com%252Fhome%26openid.identity%3Dhttp%253A%252F%252Fspecs.openid.net%252Fauth%252F2.0%252Fidentifier_select%26openid.assoc_handle%3Dsc_na_amazon_v2%26openid.mode%3Dcheckid_setup%26language%3Den_US%26openid.claimed_id%3Dhttp%253A%252F%252Fspecs.openid.net%252Fauth%252F2.0%252Fidentifier_select%26pageId%3Dsc_na_amazon_v2%26openid.ns%3Dhttp%253A%252F%252Fspecs.openid.net%252Fauth%252F2.0%26&openid.identity=http%3A%2F%2Fspecs.openid.net%2Fauth%2F2.0%2Fidentifier_select&openid.assoc_handle=sc_na_amazon_v2&openid.mode=logout&openid.claimed_id=http%3A%2F%2Fspecs.openid.net%2Fauth%2F2.0%2Fidentifier_select&openid.ns=http%3A%2F%2Fspecs.openid.net%2Fauth%2F2.0&>\n",
      "2020-06-05 01:32:48 [scrapy.downloadermiddlewares.redirect] DEBUG: Redirecting (302) to <GET https://sellercentral.amazon.com/ap/signin?openid.pape.max_auth_age=0&openid.return_to=https%3A%2F%2Fsellercentral.amazon.com%2Fhome&openid.identity=http%3A%2F%2Fspecs.openid.net%2Fauth%2F2.0%2Fidentifier_select&openid.assoc_handle=sc_na_amazon_v2&openid.mode=checkid_setup&language=en_US&openid.claimed_id=http%3A%2F%2Fspecs.openid.net%2Fauth%2F2.0%2Fidentifier_select&pageId=sc_na_amazon_v2&openid.ns=http%3A%2F%2Fspecs.openid.net%2Fauth%2F2.0&&openid.assoc_handle=sc_na_amazon_v2&openid.claimed_id=http%3A%2F%2Fspecs.openid.net%2Fauth%2F2.0%2Fidentifier_select&openid.identity=http%3A%2F%2Fspecs.openid.net%2Fauth%2F2.0%2Fidentifier_select&openid.mode=logout&openid.ns=http%3A%2F%2Fspecs.openid.net%2Fauth%2F2.0&openid.return_to=https%3A%2F%2Fsellercentral.amazon.com%2Fap%2Fsignin%3Fopenid.pape.max_auth_age%3D0%26openid.return_to%3Dhttps%253A%252F%252Fsellercentral.amazon.com%252Fhome%26openid.identity%3Dhttp%253A%252F%252Fspecs.openid.net%252Fauth%252F2.0%252Fidentifier_select%26openid.assoc_handle%3Dsc_na_amazon_v2%26openid.mode%3Dcheckid_setup%26language%3Den_US%26openid.claimed_id%3Dhttp%253A%252F%252Fspecs.openid.net%252Fauth%252F2.0%252Fidentifier_select%26pageId%3Dsc_na_amazon_v2%26openid.ns%3Dhttp%253A%252F%252Fspecs.openid.net%252Fauth%252F2.0%26&> from <GET https://sellercentral.amazon.com/ap/removeaccount?arb=1410c028-46bd-46b4-a357-3d4e64879bd4>\n",
      "2020-06-05 01:32:48 [scrapy.downloadermiddlewares.redirect] DEBUG: Redirecting (302) to <GET https://na.account.amazon.com/ap/sso?openid.pape.max_auth_age=0&signInCheckState=eyJ6aXAiOiJERUYiLCJlbmMiOiJBMjU2R0NNIiwiYWxnIjoiQTI1NktXIn0.iKz9Rw4ByfxADu1Zh_J-zq7rvni7yX9M83DljF0kkgbaXxJ4yT4vrQ.y6c6QmJS2c7vWyLJ._yjPK3KiIqllcAMEfkmfW1-dnUISvBV-0Y4WuzJoq6lGjEAM9oIroKL_Y-3n04XIoWYpqEjqP4SgXiyEeciUvi7f-Hf_rsRzIOxfgQCrPlB8F30Khv2CtxWcXXq6_hfHx49kchjGzbGh5ADNKhYlRHcv1WxVGmk8AuNQMOFKiwlF0i-FzarXXmXwz_2nUMRQEOcnCDI2cLUV-FUX-wlubYEFVegoD7zOBSjzsGaQC3iYxTvsEwJZtHet0rS1cMPLo0txt0x2odSp9CbCTqpkb7vYhSb-LsewUdVwD7EpcksPCbiCIakBNP_otxmPbe9sLK_gHNSWm2mB9yc7By_0Zyr9LZXvTxkb7T2RgrIKk0HuHOFDU8_p90BRFsvyAjtDbLUOPzko75ZiuQL_283RNkv0DByYDvvWhK9hZaSObeZkyYk.nWBJynGs8x1tr2Mg8AS5UA&openid.pape.auth_policies=Singlefactor&> from <GET https://sellercentral.amazon.com/ap/signin?openid.pape.max_auth_age=0&openid.return_to=https%3A%2F%2Fsellercentral.amazon.com%2Fhome&openid.identity=http%3A%2F%2Fspecs.openid.net%2Fauth%2F2.0%2Fidentifier_select&openid.assoc_handle=sc_na_amazon_v2&openid.mode=checkid_setup&language=en_US&openid.claimed_id=http%3A%2F%2Fspecs.openid.net%2Fauth%2F2.0%2Fidentifier_select&pageId=sc_na_amazon_v2&openid.ns=http%3A%2F%2Fspecs.openid.net%2Fauth%2F2.0&&openid.assoc_handle=sc_na_amazon_v2&openid.claimed_id=http%3A%2F%2Fspecs.openid.net%2Fauth%2F2.0%2Fidentifier_select&openid.identity=http%3A%2F%2Fspecs.openid.net%2Fauth%2F2.0%2Fidentifier_select&openid.mode=logout&openid.ns=http%3A%2F%2Fspecs.openid.net%2Fauth%2F2.0&openid.return_to=https%3A%2F%2Fsellercentral.amazon.com%2Fap%2Fsignin%3Fopenid.pape.max_auth_age%3D0%26openid.return_to%3Dhttps%253A%252F%252Fsellercentral.amazon.com%252Fhome%26openid.identity%3Dhttp%253A%252F%252Fspecs.openid.net%252Fauth%252F2.0%252Fidentifier_select%26openid.assoc_handle%3Dsc_na_amazon_v2%26openid.mode%3Dcheckid_setup%26language%3Den_US%26openid.claimed_id%3Dhttp%253A%252F%252Fspecs.openid.net%252Fauth%252F2.0%252Fidentifier_select%26pageId%3Dsc_na_amazon_v2%26openid.ns%3Dhttp%253A%252F%252Fspecs.openid.net%252Fauth%252F2.0%26&>\n",
      "2020-06-05 01:32:48 [scrapy.downloadermiddlewares.redirect] DEBUG: Redirecting (302) to <GET https://sellercentral.amazon.com:443/ap/signin?openid.pape.max_auth_age=0&openid.return_to=https%3A%2F%2Fsellercentral.amazon.com%2Fhome&openid.identity=http%3A%2F%2Fspecs.openid.net%2Fauth%2F2.0%2Fidentifier_select&openid.assoc_handle=sc_na_amazon_v2&openid.mode=checkid_setup&language=en_US&openid.claimed_id=http%3A%2F%2Fspecs.openid.net%2Fauth%2F2.0%2Fidentifier_select&pageId=sc_na_amazon_v2&openid.ns=http%3A%2F%2Fspecs.openid.net%2Fauth%2F2.0&ssoResponse=eyJ6aXAiOiJERUYiLCJlbmMiOiJBMjU2R0NNIiwiYWxnIjoiQTI1NktXIn0.VCPp8e4B_jMiUeLXZDkmu-7WeIOarPDZR8KOAG0pS0dunH2OcgNZog.dCTh_E3lJb_7UrHS.54P2T-eC23hM4M7jeAU3kMYvAdbGggf390ED4DrqO88MfJ3Wd5YjvYmtcrnjFQPVt_zTYFxHIf75PqRK4saYYkzYRGEqfEA6nIlKoCKelJdya4cMpzEfBa-jutDXTcCUKJenWziu3UQN18w6SJhOeZ5wwA83Hq44d9xCega0CL4JjaSn97B-FaEeNkiExkHzyTE1QxM4YOT9ckTvhLIuRs7r1hW3YCQgNmoDG6vOMA4CpQS2739Z0d5EHfYhF4NeoweJBr0.e4Spg0KpGqUfFbo6Q8pfFw> from <GET https://na.account.amazon.com/ap/sso?openid.pape.max_auth_age=0&signInCheckState=eyJ6aXAiOiJERUYiLCJlbmMiOiJBMjU2R0NNIiwiYWxnIjoiQTI1NktXIn0.iKz9Rw4ByfxADu1Zh_J-zq7rvni7yX9M83DljF0kkgbaXxJ4yT4vrQ.y6c6QmJS2c7vWyLJ._yjPK3KiIqllcAMEfkmfW1-dnUISvBV-0Y4WuzJoq6lGjEAM9oIroKL_Y-3n04XIoWYpqEjqP4SgXiyEeciUvi7f-Hf_rsRzIOxfgQCrPlB8F30Khv2CtxWcXXq6_hfHx49kchjGzbGh5ADNKhYlRHcv1WxVGmk8AuNQMOFKiwlF0i-FzarXXmXwz_2nUMRQEOcnCDI2cLUV-FUX-wlubYEFVegoD7zOBSjzsGaQC3iYxTvsEwJZtHet0rS1cMPLo0txt0x2odSp9CbCTqpkb7vYhSb-LsewUdVwD7EpcksPCbiCIakBNP_otxmPbe9sLK_gHNSWm2mB9yc7By_0Zyr9LZXvTxkb7T2RgrIKk0HuHOFDU8_p90BRFsvyAjtDbLUOPzko75ZiuQL_283RNkv0DByYDvvWhK9hZaSObeZkyYk.nWBJynGs8x1tr2Mg8AS5UA&openid.pape.auth_policies=Singlefactor&>\n",
      "2020-06-05 01:32:49 [scrapy.core.engine] DEBUG: Crawled (200) <GET https://sellercentral.amazon.com:443/ap/signin?openid.pape.max_auth_age=0&openid.return_to=https%3A%2F%2Fsellercentral.amazon.com%2Fhome&openid.identity=http%3A%2F%2Fspecs.openid.net%2Fauth%2F2.0%2Fidentifier_select&openid.assoc_handle=sc_na_amazon_v2&openid.mode=checkid_setup&language=en_US&openid.claimed_id=http%3A%2F%2Fspecs.openid.net%2Fauth%2F2.0%2Fidentifier_select&pageId=sc_na_amazon_v2&openid.ns=http%3A%2F%2Fspecs.openid.net%2Fauth%2F2.0&ssoResponse=eyJ6aXAiOiJERUYiLCJlbmMiOiJBMjU2R0NNIiwiYWxnIjoiQTI1NktXIn0.VCPp8e4B_jMiUeLXZDkmu-7WeIOarPDZR8KOAG0pS0dunH2OcgNZog.dCTh_E3lJb_7UrHS.54P2T-eC23hM4M7jeAU3kMYvAdbGggf390ED4DrqO88MfJ3Wd5YjvYmtcrnjFQPVt_zTYFxHIf75PqRK4saYYkzYRGEqfEA6nIlKoCKelJdya4cMpzEfBa-jutDXTcCUKJenWziu3UQN18w6SJhOeZ5wwA83Hq44d9xCega0CL4JjaSn97B-FaEeNkiExkHzyTE1QxM4YOT9ckTvhLIuRs7r1hW3YCQgNmoDG6vOMA4CpQS2739Z0d5EHfYhF4NeoweJBr0.e4Spg0KpGqUfFbo6Q8pfFw> (referer: https://sellercentral.amazon.com)\n",
      "2020-06-05 01:32:49 [scrapy.core.engine] INFO: Closing spider (finished)\n",
      "2020-06-05 01:32:49 [scrapy.statscollectors] INFO: Dumping Scrapy stats:\n",
      "{'downloader/request_bytes': 7642,\n",
      " 'downloader/request_count': 7,\n",
      " 'downloader/request_method_count/GET': 7,\n",
      " 'downloader/response_bytes': 112299,\n",
      " 'downloader/response_count': 7,\n",
      " 'downloader/response_status_count/200': 2,\n",
      " 'downloader/response_status_count/302': 5,\n",
      " 'elapsed_time_seconds': 1.220802,\n",
      " 'finish_reason': 'finished',\n",
      " 'finish_time': datetime.datetime(2020, 6, 5, 1, 32, 49, 245992),\n",
      " 'log_count/DEBUG': 7,\n",
      " 'log_count/INFO': 10,\n",
      " 'memusage/max': 95838208,\n",
      " 'memusage/startup': 95838208,\n",
      " 'request_depth_max': 1,\n",
      " 'response_received_count': 2,\n",
      " 'scheduler/dequeued': 7,\n",
      " 'scheduler/dequeued/memory': 7,\n",
      " 'scheduler/enqueued': 7,\n",
      " 'scheduler/enqueued/memory': 7,\n",
      " 'start_time': datetime.datetime(2020, 6, 5, 1, 32, 48, 25190)}\n",
      "2020-06-05 01:32:49 [scrapy.core.engine] INFO: Spider closed (finished)\n"
     ]
    }
   ],
   "source": [
    "%%script bash\n",
    "cd scrapers/amazon\n",
    ". env/bin/activate\n",
    "cd amazon_scraper/\n",
    "scrapy crawl amazon"
   ]
  },
  {
   "cell_type": "raw",
   "metadata": {},
   "source": [
    "USER_AGENT = 'Mozilla/5.0 (Macintosh; Intel Mac OS X 10_15) AppleWebKit/605.1.15 (KHTML, like Gecko) Version/13.0.3 Safari/605.1.15'\n",
    "\n",
    " <a class=\"a-link-nav-icon\" tabindex=\"-1\" href=\"/home\">\n",
    "            <img src=\"https://images-na.ssl-images-amazon.com/images/G/01/rainier/nav/sc-unified._CB420062852_.png\" />\n",
    "\n",
    "# Obey robots.txt rules\n",
    "ROBOTSTXT_OBEY = False\n",
    "\n",
    "from scrapy.http import FormRequests\n",
    "import scrapy\n",
    "def start_requests(self):\n",
    "   return [\n",
    "      FormRequest(\"INSERT URL\", formdata={\"user\":\"user\",   \n",
    "           \"pass\":\"pass\"}, callback=self.parse)]\n",
    "def parse(self,response):\n",
    "    pass\n",
    "\n",
    "<a href=\"https://sellercentral.amazon.com/signin\" data-metric-name=\"sc:welcomePage:login\" class=\"link\">\n",
    "\n",
    "<a href=\"https://services.amazon.com/content/sell-on-amazon.htm/ref=sc_us_soa_strip?ld=SCSOAStriplogin\" data-metric-name=\"sc:welcomePage:service-ad:selling-on-amazon:US\" class=\"dropdownItem\">"
   ]
  }
 ],
 "metadata": {
  "kernelspec": {
   "display_name": "Python 3",
   "language": "python",
   "name": "python3"
  },
  "language_info": {
   "codemirror_mode": {
    "name": "ipython",
    "version": 3
   },
   "file_extension": ".py",
   "mimetype": "text/x-python",
   "name": "python",
   "nbconvert_exporter": "python",
   "pygments_lexer": "ipython3",
   "version": "3.7.6"
  }
 },
 "nbformat": 4,
 "nbformat_minor": 4
}
