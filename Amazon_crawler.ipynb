{
 "cells": [
  {
   "cell_type": "code",
   "execution_count": null,
   "metadata": {},
   "outputs": [],
   "source": [
    "%%script bash\n",
    "mkdir scrapers/\n",
    "mkdir scrapers/amazon\n",
    "cd scrapers/amazon\n",
    "python -m pip install virtualenv\n",
    "virtualenv env\n",
    ". env/bin/activate\n",
    "python -m pip install scrapy\n",
    "python -m pip install numpy\n",
    "python -m pip install pandas\n",
    "python -m pip install requests\n",
    "python -m pip install scraperapi-sdk\n",
    "scrapy startproject amazon_scraper"
   ]
  },
  {
   "cell_type": "code",
   "execution_count": null,
   "metadata": {},
   "outputs": [],
   "source": [
    "%%script bash\n",
    "python -m pip install pandas"
   ]
  },
  {
   "cell_type": "code",
   "execution_count": null,
   "metadata": {},
   "outputs": [],
   "source": [
    "import pandas as pd\n",
    "data = pd.read_csv('store_credentials .csv', header=0, sep=';', index_col=False)\n",
    "data"
   ]
  },
  {
   "cell_type": "code",
   "execution_count": null,
   "metadata": {},
   "outputs": [],
   "source": [
    "%%writefile settings.py"
   ]
  },
  {
   "cell_type": "code",
   "execution_count": null,
   "metadata": {},
   "outputs": [],
   "source": [
    "%%script bash\n",
    "mv settings.py scrapers/amazon/amazon_scraper/amazon_scraper/"
   ]
  },
  {
   "cell_type": "code",
   "execution_count": null,
   "metadata": {},
   "outputs": [],
   "source": [
    "%%writefile amazon_spider.py\n",
    "import scrapy\n",
    "import numpy as np\n",
    "import pandas as pd\n",
    "#from scraper_api import ScraperAPIClient\n",
    "\n",
    "class AmazonSpider(scrapy.Spider):\n",
    "    name = 'amazon'\n",
    "    client = ScraperAPIClient('yourAPI')\n",
    "    start_urls = [client.scrapyGet(url='https://yandex.ru/search/?text=СЕО%20оптимизация%20сайта%20СЕО%20Сайта%20СЕО%20продвижение%20СЕО%20оптимизация%20и%20продвижение&lr=213'),]\n",
    "    search_engine='https://yandex.ru'\n",
    "    url_data = np.array([])\n",
    "    url_counter = 0\n",
    "\n",
    "    def parse(self, response):\n",
    "        links =\\\n",
    "        response.css('div.organic__path a::attr(href)').getall()\n",
    "        self.url_data = np.append(self.url_data, np.array(links))\n",
    "        self.url_counter+=len(links)     \n",
    "        next_page = response.css('a.pager__item_kind_next::attr(href)').get()\n",
    "        if (self.url_counter<2500) and (next_page is not None):\n",
    "            yield scrapy.Request(self.client.scrapyGet(url = self.search_engine+next_page), self.parse)\n",
    "        \n",
    "    def closed(self, reason):\n",
    "        print(self.url_counter)\n",
    "        raw = pd.DataFrame(data=self.url_data)\n",
    "        raw.to_csv(r'/home/jovyan/raw_url.csv', index = False, header=False)"
   ]
  },
  {
   "cell_type": "code",
   "execution_count": null,
   "metadata": {},
   "outputs": [],
   "source": [
    "%%script bash \n",
    "mv amazon_spider.py scrapers/amazon/amazon_scraper/amazon_scraper/spiders"
   ]
  },
  {
   "cell_type": "code",
   "execution_count": null,
   "metadata": {},
   "outputs": [],
   "source": [
    "%%script bash\n",
    "cd scrapers/amazon\n",
    ". env/bin/activate\n",
    "cd amazon_scraper/\n",
    "scrapy crawl amazon"
   ]
  },
  {
   "cell_type": "raw",
   "metadata": {},
   "source": [
    "USER_AGENT = 'Mozilla/5.0 (Macintosh; Intel Mac OS X 10_15) AppleWebKit/605.1.15 (KHTML, like Gecko) Version/13.0.3 Safari/605.1.15'\n",
    "\n",
    "# Obey robots.txt rules\n",
    "ROBOTSTXT_OBEY = False"
   ]
  }
 ],
 "metadata": {
  "kernelspec": {
   "display_name": "Python 3",
   "language": "python",
   "name": "python3"
  },
  "language_info": {
   "codemirror_mode": {
    "name": "ipython",
    "version": 3
   },
   "file_extension": ".py",
   "mimetype": "text/x-python",
   "name": "python",
   "nbconvert_exporter": "python",
   "pygments_lexer": "ipython3",
   "version": "3.7.6"
  }
 },
 "nbformat": 4,
 "nbformat_minor": 4
}
